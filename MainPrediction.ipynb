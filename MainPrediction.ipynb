{
 "cells": [
  {
   "cell_type": "markdown",
   "metadata": {},
   "source": [
    "## CNN "
   ]
  },
  {
   "cell_type": "code",
   "execution_count": 1,
   "metadata": {},
   "outputs": [],
   "source": [
    "from PyFunctions import Functions as func\n",
    "from PyFunctions import var\n",
    "from PyFunctions import ModelFunc as modelfunc\n",
    "import os\n",
    "from tqdm import tqdm\n",
    "import numpy as np\n",
    "import cv2"
   ]
  },
  {
   "cell_type": "markdown",
   "metadata": {},
   "source": [
    "### Images\n",
    "\n",
    "- Within the folder tests, add whatever image you would like that contains a gun and run the cell below"
   ]
  },
  {
   "cell_type": "code",
   "execution_count": 2,
   "metadata": {},
   "outputs": [
    {
     "name": "stdout",
     "output_type": "stream",
     "text": [
      "Tests/1.jpg\t\tPrediction: Rifle\t89% Confident\n",
      "Creating Bounding Boxes for Tests/1.jpg\n",
      "~~~~~~~~~~~~~~~~~~~~~~~~~~~~~~~~~~~~~~~~~~~~~~~~~~~~~~~~~~~~~~~~~~~~~~~~~~\n",
      "Tests/2.jpg\t\tPrediction: Handgun\t89% Confident\n",
      "Creating Bounding Boxes for Tests/2.jpg\n",
      "~~~~~~~~~~~~~~~~~~~~~~~~~~~~~~~~~~~~~~~~~~~~~~~~~~~~~~~~~~~~~~~~~~~~~~~~~~\n",
      "Tests/armas (751).jpg\t\tPrediction: Handgun\t99% Confident\n",
      "Creating Bounding Boxes for Tests/armas (751).jpg\n",
      "~~~~~~~~~~~~~~~~~~~~~~~~~~~~~~~~~~~~~~~~~~~~~~~~~~~~~~~~~~~~~~~~~~~~~~~~~~\n",
      "Tests/armas (840).jpg\t\tPrediction: Rifle\t98% Confident\n",
      "Creating Bounding Boxes for Tests/armas (840).jpg\n",
      "~~~~~~~~~~~~~~~~~~~~~~~~~~~~~~~~~~~~~~~~~~~~~~~~~~~~~~~~~~~~~~~~~~~~~~~~~~\n",
      "Tests/armas (841).jpg\t\tPrediction: Handgun\t96% Confident\n",
      "Creating Bounding Boxes for Tests/armas (841).jpg\n",
      "~~~~~~~~~~~~~~~~~~~~~~~~~~~~~~~~~~~~~~~~~~~~~~~~~~~~~~~~~~~~~~~~~~~~~~~~~~\n",
      "Tests/armas (851).jpg\t\tPrediction: Handgun\t98% Confident\n",
      "Creating Bounding Boxes for Tests/armas (851).jpg\n",
      "~~~~~~~~~~~~~~~~~~~~~~~~~~~~~~~~~~~~~~~~~~~~~~~~~~~~~~~~~~~~~~~~~~~~~~~~~~\n",
      "Tests/armas (853).jpg\t\tPrediction: Handgun\t99% Confident\n",
      "Creating Bounding Boxes for Tests/armas (853).jpg\n",
      "~~~~~~~~~~~~~~~~~~~~~~~~~~~~~~~~~~~~~~~~~~~~~~~~~~~~~~~~~~~~~~~~~~~~~~~~~~\n",
      "Tests/armas (863).jpg\t\tPrediction: Handgun\t95% Confident\n",
      "Creating Bounding Boxes for Tests/armas (863).jpg\n",
      "~~~~~~~~~~~~~~~~~~~~~~~~~~~~~~~~~~~~~~~~~~~~~~~~~~~~~~~~~~~~~~~~~~~~~~~~~~\n",
      "Tests/armas (869).jpg\t\tPrediction: Handgun\t99% Confident\n",
      "Creating Bounding Boxes for Tests/armas (869).jpg\n",
      "~~~~~~~~~~~~~~~~~~~~~~~~~~~~~~~~~~~~~~~~~~~~~~~~~~~~~~~~~~~~~~~~~~~~~~~~~~\n",
      "Tests/armas (881).jpg\t\tPrediction: Handgun\t92% Confident\n",
      "Creating Bounding Boxes for Tests/armas (881).jpg\n",
      "~~~~~~~~~~~~~~~~~~~~~~~~~~~~~~~~~~~~~~~~~~~~~~~~~~~~~~~~~~~~~~~~~~~~~~~~~~\n",
      "Tests/armas (900).jpg\t\tPrediction: Handgun\t98% Confident\n",
      "Creating Bounding Boxes for Tests/armas (900).jpg\n",
      "~~~~~~~~~~~~~~~~~~~~~~~~~~~~~~~~~~~~~~~~~~~~~~~~~~~~~~~~~~~~~~~~~~~~~~~~~~\n",
      "Tests/armas (932).jpg\t\tPrediction: Rifle\t68% Confident\n",
      "Creating Bounding Boxes for Tests/armas (932).jpg\n",
      "~~~~~~~~~~~~~~~~~~~~~~~~~~~~~~~~~~~~~~~~~~~~~~~~~~~~~~~~~~~~~~~~~~~~~~~~~~\n"
     ]
    }
   ],
   "source": [
    "#NORMAL MODEL\n",
    "edge = False\n",
    "dim = (var.norm_dimension[0], var.norm_dimension[1], 3)\n",
    "    \n",
    "normal_model = modelfunc.get_conv_model(dim)\n",
    "normal_model.load_weights('ModelWeights/Normal/ModelWeightsaccurate.h5') #path to the model weights\n",
    "\n",
    "test_folder = 'Tests'\n",
    "predictions = []\n",
    "for idx, i in enumerate([i for i in os.listdir(test_folder) if i != 'ipynb_checkpoints']):\n",
    "    img_path = f'{test_folder}/{i}'\n",
    "    pred = func.get_img_prediction_bounding_box(img_path, normal_model, dim = var.norm_dimension, edge = edge)\n",
    "    predictions.append(pred)\n",
    "    "
   ]
  },
  {
   "cell_type": "code",
   "execution_count": null,
   "metadata": {},
   "outputs": [],
   "source": [
    "# #Normal Model\n",
    "# edge= False \n",
    "\n",
    "# model_dim = var.norm_dimension #change this depending on model used\n",
    "# dim = (model_dim[0],model_dim[1], 3)\n",
    "    \n",
    "# model = modelfunc.get_conv_model(dim)\n",
    "# model.load_weights('ModelWeights/Normal/V2_NoEdge_NoAugmentation.h5')\n",
    "\n",
    "# images = func.get_vid_frames('../video/videoplayback.mp4', model, model_dim, edge = edge, vid_name = 'NormalTest')"
   ]
  },
  {
   "cell_type": "code",
   "execution_count": null,
   "metadata": {},
   "outputs": [],
   "source": [
    "%%javascript\n",
    "IPython.notebook.save_notebook()"
   ]
  },
  {
   "cell_type": "code",
   "execution_count": null,
   "metadata": {},
   "outputs": [],
   "source": [
    "import os\n",
    "os.system(r'%windir%\\system32\\rundll32.exe powrprof.dll,SetSuspendState Hibernate')"
   ]
  }
 ],
 "metadata": {
  "kernelspec": {
   "display_name": "Python 3",
   "language": "python",
   "name": "python3"
  },
  "language_info": {
   "codemirror_mode": {
    "name": "ipython",
    "version": 3
   },
   "file_extension": ".py",
   "mimetype": "text/x-python",
   "name": "python",
   "nbconvert_exporter": "python",
   "pygments_lexer": "ipython3",
   "version": "3.8.5"
  }
 },
 "nbformat": 4,
 "nbformat_minor": 4
}
